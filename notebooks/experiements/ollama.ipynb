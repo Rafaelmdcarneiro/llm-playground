{
  "nbformat": 4,
  "nbformat_minor": 0,
  "metadata": {
    "colab": {
      "private_outputs": true,
      "provenance": [],
      "gpuType": "T4",
      "authorship_tag": "ABX9TyNgyrgaEIw2TW0cv1QiVuNA",
      "include_colab_link": true
    },
    "kernelspec": {
      "name": "python3",
      "display_name": "Python 3"
    },
    "language_info": {
      "name": "python"
    },
    "accelerator": "GPU"
  },
  "cells": [
    {
      "cell_type": "markdown",
      "metadata": {
        "id": "view-in-github",
        "colab_type": "text"
      },
      "source": [
        "<a href=\"https://colab.research.google.com/github/michael-borck/the-ai-lab/blob/main/ollama.ipynb\" target=\"_parent\"><img src=\"https://colab.research.google.com/assets/colab-badge.svg\" alt=\"Open In Colab\"/></a>"
      ]
    },
    {
      "cell_type": "code",
      "source": [
        "#@title Setup Environment\n",
        "\n",
        "# Install Ollama on Computer\n",
        "!curl -fsSL https://ollama.com/install.sh | sh\n",
        "\n",
        "# Run ollama server using nohup and redirect output to a log file\n",
        "!nohup ollama serve >ollama.log 2>&1 &\n",
        "\n",
        "# Install Python interface to ollama\n",
        "!pip install ollama -q\n",
        "\n",
        "# Download one LLM model\n",
        "!ollama pull tinyllama\n",
        "\n",
        "\n",
        "# ---------- NICE TO HAVE NOT CRITICAL ----------\n",
        "\n",
        "# Pretty printing, text wrap etc.\n",
        "!pip install rich\n",
        "from rich import print\n",
        "\n",
        "\n",
        "# If we get this far then everything is install and setup\n",
        "# So lets clear the output\n",
        "from google.colab import output\n",
        "output.clear()\n",
        "\n",
        "print(\"Required packages installed. Ollama running, model downloaded\")"
      ],
      "metadata": {
        "id": "fTq-YgkZsgAK"
      },
      "execution_count": null,
      "outputs": []
    },
    {
      "cell_type": "markdown",
      "source": [
        "Minimal example from [Python & JavaScript Libraries](https://ollama.com/blog/python-javascript-libraries)"
      ],
      "metadata": {
        "id": "R0CSLBf12GdM"
      }
    },
    {
      "cell_type": "code",
      "source": [
        "import ollama\n",
        "from rich import print\n",
        "\n",
        "response = ollama.chat(model='tinyllama', messages=[\n",
        "  {\n",
        "    'role': 'user',\n",
        "    'content': 'Why is the sky blue?',\n",
        "  },\n",
        "])\n",
        "print(response['message']['content'])"
      ],
      "metadata": {
        "id": "8Iw9HhC2ozue"
      },
      "execution_count": null,
      "outputs": []
    },
    {
      "cell_type": "markdown",
      "source": [
        "Lets\n",
        "\n",
        "* wrap that in a function to reuse\n",
        "* prompt the user for the input"
      ],
      "metadata": {
        "id": "WfykZwkp2U46"
      }
    },
    {
      "cell_type": "code",
      "source": [
        "import ollama\n",
        "\n",
        "\n",
        "def chat_with_ollama(model = 'tinyllama', prompt='Why is the sky blue?'):\n",
        "  response = ollama.chat(model, messages=[\n",
        "  {\n",
        "    'role': 'user',\n",
        "    'content': prompt,\n",
        "  },\n",
        "  ])\n",
        "  return response['message']['content']\n",
        "\n",
        "\n",
        "user_input = input(\"You: \")\n",
        "answer = chat_with_ollama(prompt=user_input)\n",
        "print(f\"Chatbot: {answer}\\n\")"
      ],
      "metadata": {
        "id": "ODCvIxEqo9im"
      },
      "execution_count": null,
      "outputs": []
    },
    {
      "cell_type": "markdown",
      "source": [
        "Put it all in a loop, and we have a simple chatbot!"
      ],
      "metadata": {
        "id": "BOVE5jWl2aP_"
      }
    },
    {
      "cell_type": "code",
      "source": [
        "import ollama\n",
        "\n",
        "\n",
        "def chat_with_ollama(model = 'tinyllama', prompt='Why is the sky blue?'):\n",
        "  response = ollama.chat(model, messages=[\n",
        "  {\n",
        "    'role': 'user',\n",
        "    'content': prompt,\n",
        "  },\n",
        "  ])\n",
        "  return response['message']['content']\n",
        "\n",
        "\n",
        "while True:\n",
        "  user_input = input(\"You: \")\n",
        "  if user_input.lower() == \"exit\":\n",
        "    print(\"Chatbot: Goodbye!\")\n",
        "    break\n",
        "  answer = chat_with_ollama(prompt=user_input)\n",
        "  print(f\"Chatbot: {answer}\\n\")"
      ],
      "metadata": {
        "id": "A7D_fAOmuQJ_"
      },
      "execution_count": null,
      "outputs": []
    }
  ]
}